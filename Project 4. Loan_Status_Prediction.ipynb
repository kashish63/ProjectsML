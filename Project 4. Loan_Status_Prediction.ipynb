{
  "nbformat": 4,
  "nbformat_minor": 0,
  "metadata": {
    "colab": {
      "provenance": []
    },
    "kernelspec": {
      "name": "python3",
      "display_name": "Python 3"
    },
    "language_info": {
      "name": "python"
    }
  },
  "cells": [
    {
      "cell_type": "markdown",
      "source": [
        "Data for this project: \n",
        "https://www.kaggle.com/datasets/ninzaami/loan-predication"
      ],
      "metadata": {
        "id": "kf_yRK-BL_Kz"
      }
    },
    {
      "cell_type": "markdown",
      "source": [
        "Import Dependencies"
      ],
      "metadata": {
        "id": "jqmXZ_ODMaUK"
      }
    },
    {
      "cell_type": "code",
      "execution_count": null,
      "metadata": {
        "id": "CZFMNQoAKjy7"
      },
      "outputs": [],
      "source": [
        "import numpy as np      #numpy is useful for making numpy arrays\n",
        "import pandas as pd     #pandas is useful for creating data frames and storing data in them.\n",
        "import seaborn as sns                                  #Seaborn is used for Data Visualization\n",
        "from sklearn.model_selection import train_test_split   #for spliting data into train and test data\n",
        "from sklearn import svm                                #model used in this Project\n",
        "from sklearn.metrics import accuracy_score             # to find accuracy score of the model\n"
      ]
    },
    {
      "cell_type": "markdown",
      "source": [
        "**Data Collection and Preprocessing** \n",
        "\n",
        "Data preprocessing transforms the data into a format that is more easily and effectively processed in machine learning tasks. "
      ],
      "metadata": {
        "id": "HBRWPPHONcgv"
      }
    },
    {
      "cell_type": "code",
      "source": [
        "#transferring a dataset to a pandas dataframe to provide easier access to the data\n",
        "data = pd.read_csv('/content/dataset.csv')\n",
        "\n",
        "#printing the first five rows of the data\n",
        "data.head()"
      ],
      "metadata": {
        "colab": {
          "base_uri": "https://localhost:8080/",
          "height": 288
        },
        "id": "2drMmU4cNWSN",
        "outputId": "21194cb0-286b-467a-a9fb-e890e0b0bfe9"
      },
      "execution_count": null,
      "outputs": [
        {
          "output_type": "execute_result",
          "data": {
            "text/plain": [
              "    Loan_ID Gender Married Dependents     Education Self_Employed  \\\n",
              "0  LP001002   Male      No          0      Graduate            No   \n",
              "1  LP001003   Male     Yes          1      Graduate            No   \n",
              "2  LP001005   Male     Yes          0      Graduate           Yes   \n",
              "3  LP001006   Male     Yes          0  Not Graduate            No   \n",
              "4  LP001008   Male      No          0      Graduate            No   \n",
              "\n",
              "   ApplicantIncome  CoapplicantIncome  LoanAmount  Loan_Amount_Term  \\\n",
              "0             5849                0.0         NaN             360.0   \n",
              "1             4583             1508.0       128.0             360.0   \n",
              "2             3000                0.0        66.0             360.0   \n",
              "3             2583             2358.0       120.0             360.0   \n",
              "4             6000                0.0       141.0             360.0   \n",
              "\n",
              "   Credit_History Property_Area Loan_Status  \n",
              "0             1.0         Urban           Y  \n",
              "1             1.0         Rural           N  \n",
              "2             1.0         Urban           Y  \n",
              "3             1.0         Urban           Y  \n",
              "4             1.0         Urban           Y  "
            ],
            "text/html": [
              "\n",
              "  <div id=\"df-8672d11d-d9e5-4868-90ab-0a24c2235596\">\n",
              "    <div class=\"colab-df-container\">\n",
              "      <div>\n",
              "<style scoped>\n",
              "    .dataframe tbody tr th:only-of-type {\n",
              "        vertical-align: middle;\n",
              "    }\n",
              "\n",
              "    .dataframe tbody tr th {\n",
              "        vertical-align: top;\n",
              "    }\n",
              "\n",
              "    .dataframe thead th {\n",
              "        text-align: right;\n",
              "    }\n",
              "</style>\n",
              "<table border=\"1\" class=\"dataframe\">\n",
              "  <thead>\n",
              "    <tr style=\"text-align: right;\">\n",
              "      <th></th>\n",
              "      <th>Loan_ID</th>\n",
              "      <th>Gender</th>\n",
              "      <th>Married</th>\n",
              "      <th>Dependents</th>\n",
              "      <th>Education</th>\n",
              "      <th>Self_Employed</th>\n",
              "      <th>ApplicantIncome</th>\n",
              "      <th>CoapplicantIncome</th>\n",
              "      <th>LoanAmount</th>\n",
              "      <th>Loan_Amount_Term</th>\n",
              "      <th>Credit_History</th>\n",
              "      <th>Property_Area</th>\n",
              "      <th>Loan_Status</th>\n",
              "    </tr>\n",
              "  </thead>\n",
              "  <tbody>\n",
              "    <tr>\n",
              "      <th>0</th>\n",
              "      <td>LP001002</td>\n",
              "      <td>Male</td>\n",
              "      <td>No</td>\n",
              "      <td>0</td>\n",
              "      <td>Graduate</td>\n",
              "      <td>No</td>\n",
              "      <td>5849</td>\n",
              "      <td>0.0</td>\n",
              "      <td>NaN</td>\n",
              "      <td>360.0</td>\n",
              "      <td>1.0</td>\n",
              "      <td>Urban</td>\n",
              "      <td>Y</td>\n",
              "    </tr>\n",
              "    <tr>\n",
              "      <th>1</th>\n",
              "      <td>LP001003</td>\n",
              "      <td>Male</td>\n",
              "      <td>Yes</td>\n",
              "      <td>1</td>\n",
              "      <td>Graduate</td>\n",
              "      <td>No</td>\n",
              "      <td>4583</td>\n",
              "      <td>1508.0</td>\n",
              "      <td>128.0</td>\n",
              "      <td>360.0</td>\n",
              "      <td>1.0</td>\n",
              "      <td>Rural</td>\n",
              "      <td>N</td>\n",
              "    </tr>\n",
              "    <tr>\n",
              "      <th>2</th>\n",
              "      <td>LP001005</td>\n",
              "      <td>Male</td>\n",
              "      <td>Yes</td>\n",
              "      <td>0</td>\n",
              "      <td>Graduate</td>\n",
              "      <td>Yes</td>\n",
              "      <td>3000</td>\n",
              "      <td>0.0</td>\n",
              "      <td>66.0</td>\n",
              "      <td>360.0</td>\n",
              "      <td>1.0</td>\n",
              "      <td>Urban</td>\n",
              "      <td>Y</td>\n",
              "    </tr>\n",
              "    <tr>\n",
              "      <th>3</th>\n",
              "      <td>LP001006</td>\n",
              "      <td>Male</td>\n",
              "      <td>Yes</td>\n",
              "      <td>0</td>\n",
              "      <td>Not Graduate</td>\n",
              "      <td>No</td>\n",
              "      <td>2583</td>\n",
              "      <td>2358.0</td>\n",
              "      <td>120.0</td>\n",
              "      <td>360.0</td>\n",
              "      <td>1.0</td>\n",
              "      <td>Urban</td>\n",
              "      <td>Y</td>\n",
              "    </tr>\n",
              "    <tr>\n",
              "      <th>4</th>\n",
              "      <td>LP001008</td>\n",
              "      <td>Male</td>\n",
              "      <td>No</td>\n",
              "      <td>0</td>\n",
              "      <td>Graduate</td>\n",
              "      <td>No</td>\n",
              "      <td>6000</td>\n",
              "      <td>0.0</td>\n",
              "      <td>141.0</td>\n",
              "      <td>360.0</td>\n",
              "      <td>1.0</td>\n",
              "      <td>Urban</td>\n",
              "      <td>Y</td>\n",
              "    </tr>\n",
              "  </tbody>\n",
              "</table>\n",
              "</div>\n",
              "      <button class=\"colab-df-convert\" onclick=\"convertToInteractive('df-8672d11d-d9e5-4868-90ab-0a24c2235596')\"\n",
              "              title=\"Convert this dataframe to an interactive table.\"\n",
              "              style=\"display:none;\">\n",
              "        \n",
              "  <svg xmlns=\"http://www.w3.org/2000/svg\" height=\"24px\"viewBox=\"0 0 24 24\"\n",
              "       width=\"24px\">\n",
              "    <path d=\"M0 0h24v24H0V0z\" fill=\"none\"/>\n",
              "    <path d=\"M18.56 5.44l.94 2.06.94-2.06 2.06-.94-2.06-.94-.94-2.06-.94 2.06-2.06.94zm-11 1L8.5 8.5l.94-2.06 2.06-.94-2.06-.94L8.5 2.5l-.94 2.06-2.06.94zm10 10l.94 2.06.94-2.06 2.06-.94-2.06-.94-.94-2.06-.94 2.06-2.06.94z\"/><path d=\"M17.41 7.96l-1.37-1.37c-.4-.4-.92-.59-1.43-.59-.52 0-1.04.2-1.43.59L10.3 9.45l-7.72 7.72c-.78.78-.78 2.05 0 2.83L4 21.41c.39.39.9.59 1.41.59.51 0 1.02-.2 1.41-.59l7.78-7.78 2.81-2.81c.8-.78.8-2.07 0-2.86zM5.41 20L4 18.59l7.72-7.72 1.47 1.35L5.41 20z\"/>\n",
              "  </svg>\n",
              "      </button>\n",
              "      \n",
              "  <style>\n",
              "    .colab-df-container {\n",
              "      display:flex;\n",
              "      flex-wrap:wrap;\n",
              "      gap: 12px;\n",
              "    }\n",
              "\n",
              "    .colab-df-convert {\n",
              "      background-color: #E8F0FE;\n",
              "      border: none;\n",
              "      border-radius: 50%;\n",
              "      cursor: pointer;\n",
              "      display: none;\n",
              "      fill: #1967D2;\n",
              "      height: 32px;\n",
              "      padding: 0 0 0 0;\n",
              "      width: 32px;\n",
              "    }\n",
              "\n",
              "    .colab-df-convert:hover {\n",
              "      background-color: #E2EBFA;\n",
              "      box-shadow: 0px 1px 2px rgba(60, 64, 67, 0.3), 0px 1px 3px 1px rgba(60, 64, 67, 0.15);\n",
              "      fill: #174EA6;\n",
              "    }\n",
              "\n",
              "    [theme=dark] .colab-df-convert {\n",
              "      background-color: #3B4455;\n",
              "      fill: #D2E3FC;\n",
              "    }\n",
              "\n",
              "    [theme=dark] .colab-df-convert:hover {\n",
              "      background-color: #434B5C;\n",
              "      box-shadow: 0px 1px 3px 1px rgba(0, 0, 0, 0.15);\n",
              "      filter: drop-shadow(0px 1px 2px rgba(0, 0, 0, 0.3));\n",
              "      fill: #FFFFFF;\n",
              "    }\n",
              "  </style>\n",
              "\n",
              "      <script>\n",
              "        const buttonEl =\n",
              "          document.querySelector('#df-8672d11d-d9e5-4868-90ab-0a24c2235596 button.colab-df-convert');\n",
              "        buttonEl.style.display =\n",
              "          google.colab.kernel.accessAllowed ? 'block' : 'none';\n",
              "\n",
              "        async function convertToInteractive(key) {\n",
              "          const element = document.querySelector('#df-8672d11d-d9e5-4868-90ab-0a24c2235596');\n",
              "          const dataTable =\n",
              "            await google.colab.kernel.invokeFunction('convertToInteractive',\n",
              "                                                     [key], {});\n",
              "          if (!dataTable) return;\n",
              "\n",
              "          const docLinkHtml = 'Like what you see? Visit the ' +\n",
              "            '<a target=\"_blank\" href=https://colab.research.google.com/notebooks/data_table.ipynb>data table notebook</a>'\n",
              "            + ' to learn more about interactive tables.';\n",
              "          element.innerHTML = '';\n",
              "          dataTable['output_type'] = 'display_data';\n",
              "          await google.colab.output.renderOutput(dataTable, element);\n",
              "          const docLink = document.createElement('div');\n",
              "          docLink.innerHTML = docLinkHtml;\n",
              "          element.appendChild(docLink);\n",
              "        }\n",
              "      </script>\n",
              "    </div>\n",
              "  </div>\n",
              "  "
            ]
          },
          "metadata": {},
          "execution_count": 2
        }
      ]
    },
    {
      "cell_type": "code",
      "source": [
        "# number of rows and columns and row present in the data\n",
        "data.shape"
      ],
      "metadata": {
        "colab": {
          "base_uri": "https://localhost:8080/"
        },
        "id": "DvaaYiXgN4vt",
        "outputId": "b01b7854-2c58-45e4-b6bc-432561f93171"
      },
      "execution_count": null,
      "outputs": [
        {
          "output_type": "execute_result",
          "data": {
            "text/plain": [
              "(614, 13)"
            ]
          },
          "metadata": {},
          "execution_count": 5
        }
      ]
    },
    {
      "cell_type": "code",
      "source": [
        "#Statistical Measurments\n",
        "data.describe()"
      ],
      "metadata": {
        "colab": {
          "base_uri": "https://localhost:8080/",
          "height": 300
        },
        "id": "IAKRWNR2QC9o",
        "outputId": "121fbb63-421b-4596-84fe-1cd6660cc35b"
      },
      "execution_count": null,
      "outputs": [
        {
          "output_type": "execute_result",
          "data": {
            "text/plain": [
              "       ApplicantIncome  CoapplicantIncome  LoanAmount  Loan_Amount_Term  \\\n",
              "count       614.000000         614.000000  592.000000         600.00000   \n",
              "mean       5403.459283        1621.245798  146.412162         342.00000   \n",
              "std        6109.041673        2926.248369   85.587325          65.12041   \n",
              "min         150.000000           0.000000    9.000000          12.00000   \n",
              "25%        2877.500000           0.000000  100.000000         360.00000   \n",
              "50%        3812.500000        1188.500000  128.000000         360.00000   \n",
              "75%        5795.000000        2297.250000  168.000000         360.00000   \n",
              "max       81000.000000       41667.000000  700.000000         480.00000   \n",
              "\n",
              "       Credit_History  \n",
              "count      564.000000  \n",
              "mean         0.842199  \n",
              "std          0.364878  \n",
              "min          0.000000  \n",
              "25%          1.000000  \n",
              "50%          1.000000  \n",
              "75%          1.000000  \n",
              "max          1.000000  "
            ],
            "text/html": [
              "\n",
              "  <div id=\"df-ffcc9216-65ea-4385-a7ea-27a0e3ef94a9\">\n",
              "    <div class=\"colab-df-container\">\n",
              "      <div>\n",
              "<style scoped>\n",
              "    .dataframe tbody tr th:only-of-type {\n",
              "        vertical-align: middle;\n",
              "    }\n",
              "\n",
              "    .dataframe tbody tr th {\n",
              "        vertical-align: top;\n",
              "    }\n",
              "\n",
              "    .dataframe thead th {\n",
              "        text-align: right;\n",
              "    }\n",
              "</style>\n",
              "<table border=\"1\" class=\"dataframe\">\n",
              "  <thead>\n",
              "    <tr style=\"text-align: right;\">\n",
              "      <th></th>\n",
              "      <th>ApplicantIncome</th>\n",
              "      <th>CoapplicantIncome</th>\n",
              "      <th>LoanAmount</th>\n",
              "      <th>Loan_Amount_Term</th>\n",
              "      <th>Credit_History</th>\n",
              "    </tr>\n",
              "  </thead>\n",
              "  <tbody>\n",
              "    <tr>\n",
              "      <th>count</th>\n",
              "      <td>614.000000</td>\n",
              "      <td>614.000000</td>\n",
              "      <td>592.000000</td>\n",
              "      <td>600.00000</td>\n",
              "      <td>564.000000</td>\n",
              "    </tr>\n",
              "    <tr>\n",
              "      <th>mean</th>\n",
              "      <td>5403.459283</td>\n",
              "      <td>1621.245798</td>\n",
              "      <td>146.412162</td>\n",
              "      <td>342.00000</td>\n",
              "      <td>0.842199</td>\n",
              "    </tr>\n",
              "    <tr>\n",
              "      <th>std</th>\n",
              "      <td>6109.041673</td>\n",
              "      <td>2926.248369</td>\n",
              "      <td>85.587325</td>\n",
              "      <td>65.12041</td>\n",
              "      <td>0.364878</td>\n",
              "    </tr>\n",
              "    <tr>\n",
              "      <th>min</th>\n",
              "      <td>150.000000</td>\n",
              "      <td>0.000000</td>\n",
              "      <td>9.000000</td>\n",
              "      <td>12.00000</td>\n",
              "      <td>0.000000</td>\n",
              "    </tr>\n",
              "    <tr>\n",
              "      <th>25%</th>\n",
              "      <td>2877.500000</td>\n",
              "      <td>0.000000</td>\n",
              "      <td>100.000000</td>\n",
              "      <td>360.00000</td>\n",
              "      <td>1.000000</td>\n",
              "    </tr>\n",
              "    <tr>\n",
              "      <th>50%</th>\n",
              "      <td>3812.500000</td>\n",
              "      <td>1188.500000</td>\n",
              "      <td>128.000000</td>\n",
              "      <td>360.00000</td>\n",
              "      <td>1.000000</td>\n",
              "    </tr>\n",
              "    <tr>\n",
              "      <th>75%</th>\n",
              "      <td>5795.000000</td>\n",
              "      <td>2297.250000</td>\n",
              "      <td>168.000000</td>\n",
              "      <td>360.00000</td>\n",
              "      <td>1.000000</td>\n",
              "    </tr>\n",
              "    <tr>\n",
              "      <th>max</th>\n",
              "      <td>81000.000000</td>\n",
              "      <td>41667.000000</td>\n",
              "      <td>700.000000</td>\n",
              "      <td>480.00000</td>\n",
              "      <td>1.000000</td>\n",
              "    </tr>\n",
              "  </tbody>\n",
              "</table>\n",
              "</div>\n",
              "      <button class=\"colab-df-convert\" onclick=\"convertToInteractive('df-ffcc9216-65ea-4385-a7ea-27a0e3ef94a9')\"\n",
              "              title=\"Convert this dataframe to an interactive table.\"\n",
              "              style=\"display:none;\">\n",
              "        \n",
              "  <svg xmlns=\"http://www.w3.org/2000/svg\" height=\"24px\"viewBox=\"0 0 24 24\"\n",
              "       width=\"24px\">\n",
              "    <path d=\"M0 0h24v24H0V0z\" fill=\"none\"/>\n",
              "    <path d=\"M18.56 5.44l.94 2.06.94-2.06 2.06-.94-2.06-.94-.94-2.06-.94 2.06-2.06.94zm-11 1L8.5 8.5l.94-2.06 2.06-.94-2.06-.94L8.5 2.5l-.94 2.06-2.06.94zm10 10l.94 2.06.94-2.06 2.06-.94-2.06-.94-.94-2.06-.94 2.06-2.06.94z\"/><path d=\"M17.41 7.96l-1.37-1.37c-.4-.4-.92-.59-1.43-.59-.52 0-1.04.2-1.43.59L10.3 9.45l-7.72 7.72c-.78.78-.78 2.05 0 2.83L4 21.41c.39.39.9.59 1.41.59.51 0 1.02-.2 1.41-.59l7.78-7.78 2.81-2.81c.8-.78.8-2.07 0-2.86zM5.41 20L4 18.59l7.72-7.72 1.47 1.35L5.41 20z\"/>\n",
              "  </svg>\n",
              "      </button>\n",
              "      \n",
              "  <style>\n",
              "    .colab-df-container {\n",
              "      display:flex;\n",
              "      flex-wrap:wrap;\n",
              "      gap: 12px;\n",
              "    }\n",
              "\n",
              "    .colab-df-convert {\n",
              "      background-color: #E8F0FE;\n",
              "      border: none;\n",
              "      border-radius: 50%;\n",
              "      cursor: pointer;\n",
              "      display: none;\n",
              "      fill: #1967D2;\n",
              "      height: 32px;\n",
              "      padding: 0 0 0 0;\n",
              "      width: 32px;\n",
              "    }\n",
              "\n",
              "    .colab-df-convert:hover {\n",
              "      background-color: #E2EBFA;\n",
              "      box-shadow: 0px 1px 2px rgba(60, 64, 67, 0.3), 0px 1px 3px 1px rgba(60, 64, 67, 0.15);\n",
              "      fill: #174EA6;\n",
              "    }\n",
              "\n",
              "    [theme=dark] .colab-df-convert {\n",
              "      background-color: #3B4455;\n",
              "      fill: #D2E3FC;\n",
              "    }\n",
              "\n",
              "    [theme=dark] .colab-df-convert:hover {\n",
              "      background-color: #434B5C;\n",
              "      box-shadow: 0px 1px 3px 1px rgba(0, 0, 0, 0.15);\n",
              "      filter: drop-shadow(0px 1px 2px rgba(0, 0, 0, 0.3));\n",
              "      fill: #FFFFFF;\n",
              "    }\n",
              "  </style>\n",
              "\n",
              "      <script>\n",
              "        const buttonEl =\n",
              "          document.querySelector('#df-ffcc9216-65ea-4385-a7ea-27a0e3ef94a9 button.colab-df-convert');\n",
              "        buttonEl.style.display =\n",
              "          google.colab.kernel.accessAllowed ? 'block' : 'none';\n",
              "\n",
              "        async function convertToInteractive(key) {\n",
              "          const element = document.querySelector('#df-ffcc9216-65ea-4385-a7ea-27a0e3ef94a9');\n",
              "          const dataTable =\n",
              "            await google.colab.kernel.invokeFunction('convertToInteractive',\n",
              "                                                     [key], {});\n",
              "          if (!dataTable) return;\n",
              "\n",
              "          const docLinkHtml = 'Like what you see? Visit the ' +\n",
              "            '<a target=\"_blank\" href=https://colab.research.google.com/notebooks/data_table.ipynb>data table notebook</a>'\n",
              "            + ' to learn more about interactive tables.';\n",
              "          element.innerHTML = '';\n",
              "          dataTable['output_type'] = 'display_data';\n",
              "          await google.colab.output.renderOutput(dataTable, element);\n",
              "          const docLink = document.createElement('div');\n",
              "          docLink.innerHTML = docLinkHtml;\n",
              "          element.appendChild(docLink);\n",
              "        }\n",
              "      </script>\n",
              "    </div>\n",
              "  </div>\n",
              "  "
            ]
          },
          "metadata": {},
          "execution_count": 6
        }
      ]
    },
    {
      "cell_type": "code",
      "source": [
        "#find number of missing value in each column\n",
        "data.isnull().sum()"
      ],
      "metadata": {
        "colab": {
          "base_uri": "https://localhost:8080/"
        },
        "id": "MZ27y1opQgCk",
        "outputId": "01c7ecd5-845b-4973-d037-fbc3216a1ae2"
      },
      "execution_count": null,
      "outputs": [
        {
          "output_type": "execute_result",
          "data": {
            "text/plain": [
              "Loan_ID               0\n",
              "Gender               13\n",
              "Married               3\n",
              "Dependents           15\n",
              "Education             0\n",
              "Self_Employed        32\n",
              "ApplicantIncome       0\n",
              "CoapplicantIncome     0\n",
              "LoanAmount           22\n",
              "Loan_Amount_Term     14\n",
              "Credit_History       50\n",
              "Property_Area         0\n",
              "Loan_Status           0\n",
              "dtype: int64"
            ]
          },
          "metadata": {},
          "execution_count": 8
        }
      ]
    },
    {
      "cell_type": "markdown",
      "source": [
        "Since there aren't many missing data points, our prediction won't be much affected. Despite the fact that we have a way to fill in the missing values by moving the mean of that column to the empty space, this data contains text information such as Gender, Married, Education, Self_Employed, etc. It is best to remove these columns because they cannot be filled with numerical values."
      ],
      "metadata": {
        "id": "kHXghxmJ45Ls"
      }
    },
    {
      "cell_type": "code",
      "source": [
        "data = data.dropna()\n",
        "\n",
        "#checking missing values\n",
        "data.isnull().sum()"
      ],
      "metadata": {
        "colab": {
          "base_uri": "https://localhost:8080/"
        },
        "id": "DxGIrUicQ9xG",
        "outputId": "c3a4ab7a-8ef2-44ec-8553-ca477f32aa0a"
      },
      "execution_count": null,
      "outputs": [
        {
          "output_type": "execute_result",
          "data": {
            "text/plain": [
              "Loan_ID              0\n",
              "Gender               0\n",
              "Married              0\n",
              "Dependents           0\n",
              "Education            0\n",
              "Self_Employed        0\n",
              "ApplicantIncome      0\n",
              "CoapplicantIncome    0\n",
              "LoanAmount           0\n",
              "Loan_Amount_Term     0\n",
              "Credit_History       0\n",
              "Property_Area        0\n",
              "Loan_Status          0\n",
              "dtype: int64"
            ]
          },
          "metadata": {},
          "execution_count": 3
        }
      ]
    },
    {
      "cell_type": "code",
      "source": [
        "# label encoding \n",
        "# change YES to 1 and 0 to NO to make data machine Understandable\n",
        "\n",
        "data.replace({'Loan_Status':{'N':0, 'Y':1}}, inplace=True)\n",
        "\n",
        "#print the data\n",
        "data.head()"
      ],
      "metadata": {
        "colab": {
          "base_uri": "https://localhost:8080/",
          "height": 288
        },
        "id": "0w3McZidSoHE",
        "outputId": "6b43194e-a2d5-4fd4-8b85-ff95e1604594"
      },
      "execution_count": null,
      "outputs": [
        {
          "output_type": "execute_result",
          "data": {
            "text/plain": [
              "    Loan_ID Gender Married Dependents     Education Self_Employed  \\\n",
              "1  LP001003   Male     Yes          1      Graduate            No   \n",
              "2  LP001005   Male     Yes          0      Graduate           Yes   \n",
              "3  LP001006   Male     Yes          0  Not Graduate            No   \n",
              "4  LP001008   Male      No          0      Graduate            No   \n",
              "5  LP001011   Male     Yes          2      Graduate           Yes   \n",
              "\n",
              "   ApplicantIncome  CoapplicantIncome  LoanAmount  Loan_Amount_Term  \\\n",
              "1             4583             1508.0       128.0             360.0   \n",
              "2             3000                0.0        66.0             360.0   \n",
              "3             2583             2358.0       120.0             360.0   \n",
              "4             6000                0.0       141.0             360.0   \n",
              "5             5417             4196.0       267.0             360.0   \n",
              "\n",
              "   Credit_History Property_Area  Loan_Status  \n",
              "1             1.0         Rural            0  \n",
              "2             1.0         Urban            1  \n",
              "3             1.0         Urban            1  \n",
              "4             1.0         Urban            1  \n",
              "5             1.0         Urban            1  "
            ],
            "text/html": [
              "\n",
              "  <div id=\"df-3ccfbc86-513b-41de-a294-bbb5f58993b4\">\n",
              "    <div class=\"colab-df-container\">\n",
              "      <div>\n",
              "<style scoped>\n",
              "    .dataframe tbody tr th:only-of-type {\n",
              "        vertical-align: middle;\n",
              "    }\n",
              "\n",
              "    .dataframe tbody tr th {\n",
              "        vertical-align: top;\n",
              "    }\n",
              "\n",
              "    .dataframe thead th {\n",
              "        text-align: right;\n",
              "    }\n",
              "</style>\n",
              "<table border=\"1\" class=\"dataframe\">\n",
              "  <thead>\n",
              "    <tr style=\"text-align: right;\">\n",
              "      <th></th>\n",
              "      <th>Loan_ID</th>\n",
              "      <th>Gender</th>\n",
              "      <th>Married</th>\n",
              "      <th>Dependents</th>\n",
              "      <th>Education</th>\n",
              "      <th>Self_Employed</th>\n",
              "      <th>ApplicantIncome</th>\n",
              "      <th>CoapplicantIncome</th>\n",
              "      <th>LoanAmount</th>\n",
              "      <th>Loan_Amount_Term</th>\n",
              "      <th>Credit_History</th>\n",
              "      <th>Property_Area</th>\n",
              "      <th>Loan_Status</th>\n",
              "    </tr>\n",
              "  </thead>\n",
              "  <tbody>\n",
              "    <tr>\n",
              "      <th>1</th>\n",
              "      <td>LP001003</td>\n",
              "      <td>Male</td>\n",
              "      <td>Yes</td>\n",
              "      <td>1</td>\n",
              "      <td>Graduate</td>\n",
              "      <td>No</td>\n",
              "      <td>4583</td>\n",
              "      <td>1508.0</td>\n",
              "      <td>128.0</td>\n",
              "      <td>360.0</td>\n",
              "      <td>1.0</td>\n",
              "      <td>Rural</td>\n",
              "      <td>0</td>\n",
              "    </tr>\n",
              "    <tr>\n",
              "      <th>2</th>\n",
              "      <td>LP001005</td>\n",
              "      <td>Male</td>\n",
              "      <td>Yes</td>\n",
              "      <td>0</td>\n",
              "      <td>Graduate</td>\n",
              "      <td>Yes</td>\n",
              "      <td>3000</td>\n",
              "      <td>0.0</td>\n",
              "      <td>66.0</td>\n",
              "      <td>360.0</td>\n",
              "      <td>1.0</td>\n",
              "      <td>Urban</td>\n",
              "      <td>1</td>\n",
              "    </tr>\n",
              "    <tr>\n",
              "      <th>3</th>\n",
              "      <td>LP001006</td>\n",
              "      <td>Male</td>\n",
              "      <td>Yes</td>\n",
              "      <td>0</td>\n",
              "      <td>Not Graduate</td>\n",
              "      <td>No</td>\n",
              "      <td>2583</td>\n",
              "      <td>2358.0</td>\n",
              "      <td>120.0</td>\n",
              "      <td>360.0</td>\n",
              "      <td>1.0</td>\n",
              "      <td>Urban</td>\n",
              "      <td>1</td>\n",
              "    </tr>\n",
              "    <tr>\n",
              "      <th>4</th>\n",
              "      <td>LP001008</td>\n",
              "      <td>Male</td>\n",
              "      <td>No</td>\n",
              "      <td>0</td>\n",
              "      <td>Graduate</td>\n",
              "      <td>No</td>\n",
              "      <td>6000</td>\n",
              "      <td>0.0</td>\n",
              "      <td>141.0</td>\n",
              "      <td>360.0</td>\n",
              "      <td>1.0</td>\n",
              "      <td>Urban</td>\n",
              "      <td>1</td>\n",
              "    </tr>\n",
              "    <tr>\n",
              "      <th>5</th>\n",
              "      <td>LP001011</td>\n",
              "      <td>Male</td>\n",
              "      <td>Yes</td>\n",
              "      <td>2</td>\n",
              "      <td>Graduate</td>\n",
              "      <td>Yes</td>\n",
              "      <td>5417</td>\n",
              "      <td>4196.0</td>\n",
              "      <td>267.0</td>\n",
              "      <td>360.0</td>\n",
              "      <td>1.0</td>\n",
              "      <td>Urban</td>\n",
              "      <td>1</td>\n",
              "    </tr>\n",
              "  </tbody>\n",
              "</table>\n",
              "</div>\n",
              "      <button class=\"colab-df-convert\" onclick=\"convertToInteractive('df-3ccfbc86-513b-41de-a294-bbb5f58993b4')\"\n",
              "              title=\"Convert this dataframe to an interactive table.\"\n",
              "              style=\"display:none;\">\n",
              "        \n",
              "  <svg xmlns=\"http://www.w3.org/2000/svg\" height=\"24px\"viewBox=\"0 0 24 24\"\n",
              "       width=\"24px\">\n",
              "    <path d=\"M0 0h24v24H0V0z\" fill=\"none\"/>\n",
              "    <path d=\"M18.56 5.44l.94 2.06.94-2.06 2.06-.94-2.06-.94-.94-2.06-.94 2.06-2.06.94zm-11 1L8.5 8.5l.94-2.06 2.06-.94-2.06-.94L8.5 2.5l-.94 2.06-2.06.94zm10 10l.94 2.06.94-2.06 2.06-.94-2.06-.94-.94-2.06-.94 2.06-2.06.94z\"/><path d=\"M17.41 7.96l-1.37-1.37c-.4-.4-.92-.59-1.43-.59-.52 0-1.04.2-1.43.59L10.3 9.45l-7.72 7.72c-.78.78-.78 2.05 0 2.83L4 21.41c.39.39.9.59 1.41.59.51 0 1.02-.2 1.41-.59l7.78-7.78 2.81-2.81c.8-.78.8-2.07 0-2.86zM5.41 20L4 18.59l7.72-7.72 1.47 1.35L5.41 20z\"/>\n",
              "  </svg>\n",
              "      </button>\n",
              "      \n",
              "  <style>\n",
              "    .colab-df-container {\n",
              "      display:flex;\n",
              "      flex-wrap:wrap;\n",
              "      gap: 12px;\n",
              "    }\n",
              "\n",
              "    .colab-df-convert {\n",
              "      background-color: #E8F0FE;\n",
              "      border: none;\n",
              "      border-radius: 50%;\n",
              "      cursor: pointer;\n",
              "      display: none;\n",
              "      fill: #1967D2;\n",
              "      height: 32px;\n",
              "      padding: 0 0 0 0;\n",
              "      width: 32px;\n",
              "    }\n",
              "\n",
              "    .colab-df-convert:hover {\n",
              "      background-color: #E2EBFA;\n",
              "      box-shadow: 0px 1px 2px rgba(60, 64, 67, 0.3), 0px 1px 3px 1px rgba(60, 64, 67, 0.15);\n",
              "      fill: #174EA6;\n",
              "    }\n",
              "\n",
              "    [theme=dark] .colab-df-convert {\n",
              "      background-color: #3B4455;\n",
              "      fill: #D2E3FC;\n",
              "    }\n",
              "\n",
              "    [theme=dark] .colab-df-convert:hover {\n",
              "      background-color: #434B5C;\n",
              "      box-shadow: 0px 1px 3px 1px rgba(0, 0, 0, 0.15);\n",
              "      filter: drop-shadow(0px 1px 2px rgba(0, 0, 0, 0.3));\n",
              "      fill: #FFFFFF;\n",
              "    }\n",
              "  </style>\n",
              "\n",
              "      <script>\n",
              "        const buttonEl =\n",
              "          document.querySelector('#df-3ccfbc86-513b-41de-a294-bbb5f58993b4 button.colab-df-convert');\n",
              "        buttonEl.style.display =\n",
              "          google.colab.kernel.accessAllowed ? 'block' : 'none';\n",
              "\n",
              "        async function convertToInteractive(key) {\n",
              "          const element = document.querySelector('#df-3ccfbc86-513b-41de-a294-bbb5f58993b4');\n",
              "          const dataTable =\n",
              "            await google.colab.kernel.invokeFunction('convertToInteractive',\n",
              "                                                     [key], {});\n",
              "          if (!dataTable) return;\n",
              "\n",
              "          const docLinkHtml = 'Like what you see? Visit the ' +\n",
              "            '<a target=\"_blank\" href=https://colab.research.google.com/notebooks/data_table.ipynb>data table notebook</a>'\n",
              "            + ' to learn more about interactive tables.';\n",
              "          element.innerHTML = '';\n",
              "          dataTable['output_type'] = 'display_data';\n",
              "          await google.colab.output.renderOutput(dataTable, element);\n",
              "          const docLink = document.createElement('div');\n",
              "          docLink.innerHTML = docLinkHtml;\n",
              "          element.appendChild(docLink);\n",
              "        }\n",
              "      </script>\n",
              "    </div>\n",
              "  </div>\n",
              "  "
            ]
          },
          "metadata": {},
          "execution_count": 4
        }
      ]
    },
    {
      "cell_type": "code",
      "source": [
        "# Dependent column values\n",
        "data['Dependents'].value_counts()"
      ],
      "metadata": {
        "colab": {
          "base_uri": "https://localhost:8080/"
        },
        "id": "r2zbTrFuTiyl",
        "outputId": "bffc44c6-b173-41b8-da01-29b36787b49e"
      },
      "execution_count": null,
      "outputs": [
        {
          "output_type": "execute_result",
          "data": {
            "text/plain": [
              "0     274\n",
              "2      85\n",
              "1      80\n",
              "3+     41\n",
              "Name: Dependents, dtype: int64"
            ]
          },
          "metadata": {},
          "execution_count": 5
        }
      ]
    },
    {
      "cell_type": "code",
      "source": [
        "# As shown above there are four types of values in the Dependents column these are 0, 1, 2, 3+\n",
        "#We cannot use 3+ as input data so we will replace 3+ to 4 as we done in label encoding \n",
        "\n",
        "data = data.replace(to_replace='3+', value=4)\n",
        "\n",
        "# print them and check\n",
        "data['Dependents'].value_counts()"
      ],
      "metadata": {
        "id": "7HA-3ACsUSak",
        "colab": {
          "base_uri": "https://localhost:8080/"
        },
        "outputId": "51b80962-7772-429c-c402-a7875ffb490e"
      },
      "execution_count": null,
      "outputs": [
        {
          "output_type": "execute_result",
          "data": {
            "text/plain": [
              "0    274\n",
              "2     85\n",
              "1     80\n",
              "4     41\n",
              "Name: Dependents, dtype: int64"
            ]
          },
          "metadata": {},
          "execution_count": 6
        }
      ]
    },
    {
      "cell_type": "markdown",
      "source": [
        "Data Visualization"
      ],
      "metadata": {
        "id": "d6vCW9eRaJ1F"
      }
    },
    {
      "cell_type": "markdown",
      "source": [
        "Data Visualization is used to analysing the data and to find relationship between various features or various column of the dataset.\n",
        "Data visualization is the representation of data through use of common graphics, such as charts, plots, infographics, and even animations."
      ],
      "metadata": {
        "id": "jUuNExIAaV-N"
      }
    },
    {
      "cell_type": "code",
      "source": [
        "#Education and loan Status\n",
        "#We are using countplot function of seaborn library for data visualization \n",
        "\n",
        "sns.countplot(x='Education', hue='Loan_Status', data=data)"
      ],
      "metadata": {
        "colab": {
          "base_uri": "https://localhost:8080/",
          "height": 466
        },
        "id": "Mcp3aUzUZuod",
        "outputId": "029c0bfe-bbe0-4876-e6c1-e048dbabe142"
      },
      "execution_count": null,
      "outputs": [
        {
          "output_type": "execute_result",
          "data": {
            "text/plain": [
              "<Axes: xlabel='Education', ylabel='count'>"
            ]
          },
          "metadata": {},
          "execution_count": 7
        },
        {
          "output_type": "display_data",
          "data": {
            "text/plain": [
              "<Figure size 640x480 with 1 Axes>"
            ],
            "image/png": "[encoded data removed]"
          },
          "metadata": {}
        }
      ]
    },
    {
      "cell_type": "code",
      "source": [
        "#Merital Status and Loan status\n",
        "sns.countplot(x='Married', hue='Loan_Status', data=data)"
      ],
      "metadata": {
        "colab": {
          "base_uri": "https://localhost:8080/",
          "height": 466
        },
        "id": "SHiFxOWPbman",
        "outputId": "ea28619e-cd2b-4304-d892-25c88e99d6d6"
      },
      "execution_count": null,
      "outputs": [
        {
          "output_type": "execute_result",
          "data": {
            "text/plain": [
              "<Axes: xlabel='Married', ylabel='count'>"
            ]
          },
          "metadata": {},
          "execution_count": 8
        },
        {
          "output_type": "display_data",
          "data": {
            "text/plain": [
              "<Figure size 640x480 with 1 Axes>"
            ],
            "image/png": "[encoded data removed]"
          },
          "metadata": {}
        }
      ]
    },
    {
      "cell_type": "code",
      "source": [
        "#Gender and Loan_Status\n",
        "sns.countplot(x='Gender', hue='Loan_Status', data = data)"
      ],
      "metadata": {
        "colab": {
          "base_uri": "https://localhost:8080/",
          "height": 466
        },
        "id": "4KTrXdXMcjc7",
        "outputId": "46b5bab9-4ea3-4042-946b-1b605ca7871b"
      },
      "execution_count": null,
      "outputs": [
        {
          "output_type": "execute_result",
          "data": {
            "text/plain": [
              "<Axes: xlabel='Gender', ylabel='count'>"
            ]
          },
          "metadata": {},
          "execution_count": 9
        },
        {
          "output_type": "display_data",
          "data": {
            "text/plain": [
              "<Figure size 640x480 with 1 Axes>"
            ],
            "image/png": "[encoded data removed]"
          },
          "metadata": {}
        }
      ]
    },
    {
      "cell_type": "code",
      "source": [
        "#Change the other column text values to numeric values\n",
        "\n",
        "#Gender column has value Male and Female\n",
        "#Married column has value yes and no\n",
        "#Self_Employed column has value yes and no\n",
        "#Education column has value Graduate and Non Graduate\t\n",
        "#Property_Area column has value Rural, Semiurban and Urban\n",
        "\n",
        "\n",
        "data.replace({'Married':{'No':0, 'Yes':1},'Gender':{'Male':1, 'Female':0}, 'Self_Employed':{'No':0, 'Yes':1}, \n",
        " 'Education':{'Graduate':1, 'Not Graduate':0},'Property_Area':{'Rural':0, 'Semiurban':1,'Urban ':2}, \n",
        " 'Property_Area': {'Rural':0, 'Semiurban':1,'Urban':2}}, inplace=True)\n",
        "\n",
        "#print data\n",
        "data.head()"
      ],
      "metadata": {
        "id": "i_6iM2W1dBoO",
        "colab": {
          "base_uri": "https://localhost:8080/",
          "height": 270
        },
        "outputId": "6565ba3f-756d-4a74-b124-57529c4a0a7e"
      },
      "execution_count": null,
      "outputs": [
        {
          "output_type": "execute_result",
          "data": {
            "text/plain": [
              "    Loan_ID  Gender  Married Dependents  Education  Self_Employed  \\\n",
              "1  LP001003       1        1          1          1              0   \n",
              "2  LP001005       1        1          0          1              1   \n",
              "3  LP001006       1        1          0          0              0   \n",
              "4  LP001008       1        0          0          1              0   \n",
              "5  LP001011       1        1          2          1              1   \n",
              "\n",
              "   ApplicantIncome  CoapplicantIncome  LoanAmount  Loan_Amount_Term  \\\n",
              "1             4583             1508.0       128.0             360.0   \n",
              "2             3000                0.0        66.0             360.0   \n",
              "3             2583             2358.0       120.0             360.0   \n",
              "4             6000                0.0       141.0             360.0   \n",
              "5             5417             4196.0       267.0             360.0   \n",
              "\n",
              "   Credit_History  Property_Area  Loan_Status  \n",
              "1             1.0              0            0  \n",
              "2             1.0              2            1  \n",
              "3             1.0              2            1  \n",
              "4             1.0              2            1  \n",
              "5             1.0              2            1  "
            ],
            "text/html": [
              "\n",
              "  <div id=\"df-299ec87a-b39f-4a4f-a94d-86df4f9fca8a\">\n",
              "    <div class=\"colab-df-container\">\n",
              "      <div>\n",
              "<style scoped>\n",
              "    .dataframe tbody tr th:only-of-type {\n",
              "        vertical-align: middle;\n",
              "    }\n",
              "\n",
              "    .dataframe tbody tr th {\n",
              "        vertical-align: top;\n",
              "    }\n",
              "\n",
              "    .dataframe thead th {\n",
              "        text-align: right;\n",
              "    }\n",
              "</style>\n",
              "<table border=\"1\" class=\"dataframe\">\n",
              "  <thead>\n",
              "    <tr style=\"text-align: right;\">\n",
              "      <th></th>\n",
              "      <th>Loan_ID</th>\n",
              "      <th>Gender</th>\n",
              "      <th>Married</th>\n",
              "      <th>Dependents</th>\n",
              "      <th>Education</th>\n",
              "      <th>Self_Employed</th>\n",
              "      <th>ApplicantIncome</th>\n",
              "      <th>CoapplicantIncome</th>\n",
              "      <th>LoanAmount</th>\n",
              "      <th>Loan_Amount_Term</th>\n",
              "      <th>Credit_History</th>\n",
              "      <th>Property_Area</th>\n",
              "      <th>Loan_Status</th>\n",
              "    </tr>\n",
              "  </thead>\n",
              "  <tbody>\n",
              "    <tr>\n",
              "      <th>1</th>\n",
              "      <td>LP001003</td>\n",
              "      <td>1</td>\n",
              "      <td>1</td>\n",
              "      <td>1</td>\n",
              "      <td>1</td>\n",
              "      <td>0</td>\n",
              "      <td>4583</td>\n",
              "      <td>1508.0</td>\n",
              "      <td>128.0</td>\n",
              "      <td>360.0</td>\n",
              "      <td>1.0</td>\n",
              "      <td>0</td>\n",
              "      <td>0</td>\n",
              "    </tr>\n",
              "    <tr>\n",
              "      <th>2</th>\n",
              "      <td>LP001005</td>\n",
              "      <td>1</td>\n",
              "      <td>1</td>\n",
              "      <td>0</td>\n",
              "      <td>1</td>\n",
              "      <td>1</td>\n",
              "      <td>3000</td>\n",
              "      <td>0.0</td>\n",
              "      <td>66.0</td>\n",
              "      <td>360.0</td>\n",
              "      <td>1.0</td>\n",
              "      <td>2</td>\n",
              "      <td>1</td>\n",
              "    </tr>\n",
              "    <tr>\n",
              "      <th>3</th>\n",
              "      <td>LP001006</td>\n",
              "      <td>1</td>\n",
              "      <td>1</td>\n",
              "      <td>0</td>\n",
              "      <td>0</td>\n",
              "      <td>0</td>\n",
              "      <td>2583</td>\n",
              "      <td>2358.0</td>\n",
              "      <td>120.0</td>\n",
              "      <td>360.0</td>\n",
              "      <td>1.0</td>\n",
              "      <td>2</td>\n",
              "      <td>1</td>\n",
              "    </tr>\n",
              "    <tr>\n",
              "      <th>4</th>\n",
              "      <td>LP001008</td>\n",
              "      <td>1</td>\n",
              "      <td>0</td>\n",
              "      <td>0</td>\n",
              "      <td>1</td>\n",
              "      <td>0</td>\n",
              "      <td>6000</td>\n",
              "      <td>0.0</td>\n",
              "      <td>141.0</td>\n",
              "      <td>360.0</td>\n",
              "      <td>1.0</td>\n",
              "      <td>2</td>\n",
              "      <td>1</td>\n",
              "    </tr>\n",
              "    <tr>\n",
              "      <th>5</th>\n",
              "      <td>LP001011</td>\n",
              "      <td>1</td>\n",
              "      <td>1</td>\n",
              "      <td>2</td>\n",
              "      <td>1</td>\n",
              "      <td>1</td>\n",
              "      <td>5417</td>\n",
              "      <td>4196.0</td>\n",
              "      <td>267.0</td>\n",
              "      <td>360.0</td>\n",
              "      <td>1.0</td>\n",
              "      <td>2</td>\n",
              "      <td>1</td>\n",
              "    </tr>\n",
              "  </tbody>\n",
              "</table>\n",
              "</div>\n",
              "      <button class=\"colab-df-convert\" onclick=\"convertToInteractive('df-299ec87a-b39f-4a4f-a94d-86df4f9fca8a')\"\n",
              "              title=\"Convert this dataframe to an interactive table.\"\n",
              "              style=\"display:none;\">\n",
              "        \n",
              "  <svg xmlns=\"http://www.w3.org/2000/svg\" height=\"24px\"viewBox=\"0 0 24 24\"\n",
              "       width=\"24px\">\n",
              "    <path d=\"M0 0h24v24H0V0z\" fill=\"none\"/>\n",
              "    <path d=\"M18.56 5.44l.94 2.06.94-2.06 2.06-.94-2.06-.94-.94-2.06-.94 2.06-2.06.94zm-11 1L8.5 8.5l.94-2.06 2.06-.94-2.06-.94L8.5 2.5l-.94 2.06-2.06.94zm10 10l.94 2.06.94-2.06 2.06-.94-2.06-.94-.94-2.06-.94 2.06-2.06.94z\"/><path d=\"M17.41 7.96l-1.37-1.37c-.4-.4-.92-.59-1.43-.59-.52 0-1.04.2-1.43.59L10.3 9.45l-7.72 7.72c-.78.78-.78 2.05 0 2.83L4 21.41c.39.39.9.59 1.41.59.51 0 1.02-.2 1.41-.59l7.78-7.78 2.81-2.81c.8-.78.8-2.07 0-2.86zM5.41 20L4 18.59l7.72-7.72 1.47 1.35L5.41 20z\"/>\n",
              "  </svg>\n",
              "      </button>\n",
              "      \n",
              "  <style>\n",
              "    .colab-df-container {\n",
              "      display:flex;\n",
              "      flex-wrap:wrap;\n",
              "      gap: 12px;\n",
              "    }\n",
              "\n",
              "    .colab-df-convert {\n",
              "      background-color: #E8F0FE;\n",
              "      border: none;\n",
              "      border-radius: 50%;\n",
              "      cursor: pointer;\n",
              "      display: none;\n",
              "      fill: #1967D2;\n",
              "      height: 32px;\n",
              "      padding: 0 0 0 0;\n",
              "      width: 32px;\n",
              "    }\n",
              "\n",
              "    .colab-df-convert:hover {\n",
              "      background-color: #E2EBFA;\n",
              "      box-shadow: 0px 1px 2px rgba(60, 64, 67, 0.3), 0px 1px 3px 1px rgba(60, 64, 67, 0.15);\n",
              "      fill: #174EA6;\n",
              "    }\n",
              "\n",
              "    [theme=dark] .colab-df-convert {\n",
              "      background-color: #3B4455;\n",
              "      fill: #D2E3FC;\n",
              "    }\n",
              "\n",
              "    [theme=dark] .colab-df-convert:hover {\n",
              "      background-color: #434B5C;\n",
              "      box-shadow: 0px 1px 3px 1px rgba(0, 0, 0, 0.15);\n",
              "      filter: drop-shadow(0px 1px 2px rgba(0, 0, 0, 0.3));\n",
              "      fill: #FFFFFF;\n",
              "    }\n",
              "  </style>\n",
              "\n",
              "      <script>\n",
              "        const buttonEl =\n",
              "          document.querySelector('#df-299ec87a-b39f-4a4f-a94d-86df4f9fca8a button.colab-df-convert');\n",
              "        buttonEl.style.display =\n",
              "          google.colab.kernel.accessAllowed ? 'block' : 'none';\n",
              "\n",
              "        async function convertToInteractive(key) {\n",
              "          const element = document.querySelector('#df-299ec87a-b39f-4a4f-a94d-86df4f9fca8a');\n",
              "          const dataTable =\n",
              "            await google.colab.kernel.invokeFunction('convertToInteractive',\n",
              "                                                     [key], {});\n",
              "          if (!dataTable) return;\n",
              "\n",
              "          const docLinkHtml = 'Like what you see? Visit the ' +\n",
              "            '<a target=\"_blank\" href=https://colab.research.google.com/notebooks/data_table.ipynb>data table notebook</a>'\n",
              "            + ' to learn more about interactive tables.';\n",
              "          element.innerHTML = '';\n",
              "          dataTable['output_type'] = 'display_data';\n",
              "          await google.colab.output.renderOutput(dataTable, element);\n",
              "          const docLink = document.createElement('div');\n",
              "          docLink.innerHTML = docLinkHtml;\n",
              "          element.appendChild(docLink);\n",
              "        }\n",
              "      </script>\n",
              "    </div>\n",
              "  </div>\n",
              "  "
            ]
          },
          "metadata": {},
          "execution_count": 17
        }
      ]
    },
    {
      "cell_type": "markdown",
      "source": [
        "**Separating data and labels**\n",
        "\n",
        "X: Add all of the Data's features to the X variable. To accomplish this, we must remove the label column from the data and store the remaining columns as X variables. We can remove label column from the data by using the panda's drop function. This function takes the name of the column you wish to remove and the axis. Axis 0 leads to dropping rows, while axis 1 drops columns.\n",
        "\n",
        "Y: Store label of the data to the variable Y"
      ],
      "metadata": {
        "id": "Vi9Y5ZBoWqad"
      }
    },
    {
      "cell_type": "code",
      "source": [
        "#We do not need Loan_Id so here we drop that column for testing data\n",
        "# axis=1 for droping column axis=0 for droping rows\n",
        "\n",
        "X = data.drop(columns=['Loan_ID', 'Loan_Status'], axis=1)\n",
        "Y = data['Loan_Status']\n",
        "\n",
        "print(X)\n",
        "print(Y)"
      ],
      "metadata": {
        "colab": {
          "base_uri": "https://localhost:8080/"
        },
        "id": "NmCeezJKWkot",
        "outputId": "02945f9b-d9d7-4089-d14f-33eaf17abcaa"
      },
      "execution_count": null,
      "outputs": [
        {
          "output_type": "stream",
          "name": "stdout",
          "text": [
            "     Gender  Married Dependents  Education  Self_Employed  ApplicantIncome  \\\n",
            "1         1        1          1          1              0             4583   \n",
            "2         1        1          0          1              1             3000   \n",
            "3         1        1          0          0              0             2583   \n",
            "4         1        0          0          1              0             6000   \n",
            "5         1        1          2          1              1             5417   \n",
            "..      ...      ...        ...        ...            ...              ...   \n",
            "609       0        0          0          1              0             2900   \n",
            "610       1        1          4          1              0             4106   \n",
            "611       1        1          1          1              0             8072   \n",
            "612       1        1          2          1              0             7583   \n",
            "613       0        0          0          1              1             4583   \n",
            "\n",
            "     CoapplicantIncome  LoanAmount  Loan_Amount_Term  Credit_History  \\\n",
            "1               1508.0       128.0             360.0             1.0   \n",
            "2                  0.0        66.0             360.0             1.0   \n",
            "3               2358.0       120.0             360.0             1.0   \n",
            "4                  0.0       141.0             360.0             1.0   \n",
            "5               4196.0       267.0             360.0             1.0   \n",
            "..                 ...         ...               ...             ...   \n",
            "609                0.0        71.0             360.0             1.0   \n",
            "610                0.0        40.0             180.0             1.0   \n",
            "611              240.0       253.0             360.0             1.0   \n",
            "612                0.0       187.0             360.0             1.0   \n",
            "613                0.0       133.0             360.0             0.0   \n",
            "\n",
            "     Property_Area  \n",
            "1                0  \n",
            "2                2  \n",
            "3                2  \n",
            "4                2  \n",
            "5                2  \n",
            "..             ...  \n",
            "609              0  \n",
            "610              0  \n",
            "611              2  \n",
            "612              2  \n",
            "613              1  \n",
            "\n",
            "[480 rows x 11 columns]\n",
            "1      0\n",
            "2      1\n",
            "3      1\n",
            "4      1\n",
            "5      1\n",
            "      ..\n",
            "609    1\n",
            "610    1\n",
            "611    1\n",
            "612    1\n",
            "613    0\n",
            "Name: Loan_Status, Length: 480, dtype: int64\n"
          ]
        }
      ]
    },
    {
      "cell_type": "markdown",
      "source": [
        "**Splitting Data into Training data and Testing data**"
      ],
      "metadata": {
        "id": "LAjGiJetX15N"
      }
    },
    {
      "cell_type": "markdown",
      "source": [
        "**Train Test Split:** Split arrays or matrices into random train and test subsets.\n",
        "\n",
        "Spliting data into four variables X_train, X_text, Y_train, Y_test\n",
        "\n",
        "The X_train variable will hold all of the training data, and the Y_train variable will have the label of the X_tarin data.\n",
        "\n",
        "Data for evoluation will be store in the X_test label of X_test data will store in the Y_test variable.\n",
        "\n",
        "---\n",
        "\n",
        "**test-size:** it defines the ratio of data which divide into traning and testing data.\n",
        "\n",
        "0.1 = 10% data for testing and rest 90% data for traning\n",
        "\n",
        "0.2 = 20% data for testing and rest 80% data for traning\n",
        "\n",
        "---\n",
        "\n",
        "**Stratify:**  This will be used by the train_test_split() function to ensure that both the train and test sets have the proportion of examples in each class that is present in the provided “y” array.Like in this model we use Stratify = Y as it divide equal 1 and 0 to the train and test data\n",
        "\n",
        "**Random State:** The random state hyperparameter in the train_test_split() function controls the shuffling process. With random_state=None , we get different train and test sets across different executions and the shuffling process is out of control. With random_state=0 or 1 or 2, we get the same train and test sets across different executions.\n"
      ],
      "metadata": {
        "id": "Z09-nVlfZHij"
      }
    },
    {
      "cell_type": "code",
      "source": [
        "X_train, X_test, Y_train, Y_test = train_test_split(X, Y, test_size=0.1, stratify=Y, random_state=2)"
      ],
      "metadata": {
        "id": "4GKfxhviXtUS"
      },
      "execution_count": null,
      "outputs": []
    },
    {
      "cell_type": "code",
      "source": [
        "#printing number of rows and columns of X, X_train and X_test\n",
        "\n",
        "print(X.shape, X_train.shape, X_test.shape)"
      ],
      "metadata": {
        "colab": {
          "base_uri": "https://localhost:8080/"
        },
        "id": "OI2L7FS7vljL",
        "outputId": "68b21049-d9f5-4c37-cbd9-112e1abf057b"
      },
      "execution_count": null,
      "outputs": [
        {
          "output_type": "stream",
          "name": "stdout",
          "text": [
            "(480, 11) (432, 11) (48, 11)\n"
          ]
        }
      ]
    },
    {
      "cell_type": "markdown",
      "source": [
        "As spliting is done now train model using Support Vector Machine Algorithm\n",
        "\n",
        "**Support Vector Machine Algorithm:** Support Vector Machine or SVM is one of the most popular Supervised Learning algorithms, which is used for Classification as well as Regression problems. However, primarily, it is used for Classification problems in Machine Learning.\n",
        "\n",
        "The goal of the SVM algorithm is to create the best line or decision boundary that can segregate n-dimensional space into classes so that we can easily put the new data point in the correct category in the future. This best decision boundary is called a hyperplane.\n",
        "\n",
        "SVM chooses the extreme points/vectors that help in creating the hyperplane. These extreme cases are called as support vectors, and hence algorithm is termed as Support Vector Machine. Consider the below diagram in which there are two different categories that are classified using a decision boundary or hyperplane:\n",
        "\n",
        "![image.png](data:image/png;base64,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)"
      ],
      "metadata": {
        "id": "TWLCJ_w_waX7"
      }
    },
    {
      "cell_type": "code",
      "source": [
        "#Training the Model\n",
        "\n",
        "#Here we use SVC --> Support Vector Classifier as it is a classification poroblem\n",
        "classifier = svm.SVC(kernel='linear')\n",
        "\n",
        "classifier.fit(X_train, Y_train)"
      ],
      "metadata": {
        "colab": {
          "base_uri": "https://localhost:8080/",
          "height": 75
        },
        "id": "A-NTJFRtv8S4",
        "outputId": "d09416b5-e3fc-4723-d3af-8fb4fd2d12af"
      },
      "execution_count": null,
      "outputs": [
        {
          "output_type": "execute_result",
          "data": {
            "text/plain": [
              "SVC(kernel='linear')"
            ],
            "text/html": [
              "<style>#sk-container-id-1 {color: black;background-color: white;}#sk-container-id-1 pre{padding: 0;}#sk-container-id-1 div.sk-toggleable {background-color: white;}#sk-container-id-1 label.sk-toggleable__label {cursor: pointer;display: block;width: 100%;margin-bottom: 0;padding: 0.3em;box-sizing: border-box;text-align: center;}#sk-container-id-1 label.sk-toggleable__label-arrow:before {content: \"▸\";float: left;margin-right: 0.25em;color: #696969;}#sk-container-id-1 label.sk-toggleable__label-arrow:hover:before {color: black;}#sk-container-id-1 div.sk-estimator:hover label.sk-toggleable__label-arrow:before {color: black;}#sk-container-id-1 div.sk-toggleable__content {max-height: 0;max-width: 0;overflow: hidden;text-align: left;background-color: #f0f8ff;}#sk-container-id-1 div.sk-toggleable__content pre {margin: 0.2em;color: black;border-radius: 0.25em;background-color: #f0f8ff;}#sk-container-id-1 input.sk-toggleable__control:checked~div.sk-toggleable__content {max-height: 200px;max-width: 100%;overflow: auto;}#sk-container-id-1 input.sk-toggleable__control:checked~label.sk-toggleable__label-arrow:before {content: \"▾\";}#sk-container-id-1 div.sk-estimator input.sk-toggleable__control:checked~label.sk-toggleable__label {background-color: #d4ebff;}#sk-container-id-1 div.sk-label input.sk-toggleable__control:checked~label.sk-toggleable__label {background-color: #d4ebff;}#sk-container-id-1 input.sk-hidden--visually {border: 0;clip: rect(1px 1px 1px 1px);clip: rect(1px, 1px, 1px, 1px);height: 1px;margin: -1px;overflow: hidden;padding: 0;position: absolute;width: 1px;}#sk-container-id-1 div.sk-estimator {font-family: monospace;background-color: #f0f8ff;border: 1px dotted black;border-radius: 0.25em;box-sizing: border-box;margin-bottom: 0.5em;}#sk-container-id-1 div.sk-estimator:hover {background-color: #d4ebff;}#sk-container-id-1 div.sk-parallel-item::after {content: \"\";width: 100%;border-bottom: 1px solid gray;flex-grow: 1;}#sk-container-id-1 div.sk-label:hover label.sk-toggleable__label {background-color: #d4ebff;}#sk-container-id-1 div.sk-serial::before {content: \"\";position: absolute;border-left: 1px solid gray;box-sizing: border-box;top: 0;bottom: 0;left: 50%;z-index: 0;}#sk-container-id-1 div.sk-serial {display: flex;flex-direction: column;align-items: center;background-color: white;padding-right: 0.2em;padding-left: 0.2em;position: relative;}#sk-container-id-1 div.sk-item {position: relative;z-index: 1;}#sk-container-id-1 div.sk-parallel {display: flex;align-items: stretch;justify-content: center;background-color: white;position: relative;}#sk-container-id-1 div.sk-item::before, #sk-container-id-1 div.sk-parallel-item::before {content: \"\";position: absolute;border-left: 1px solid gray;box-sizing: border-box;top: 0;bottom: 0;left: 50%;z-index: -1;}#sk-container-id-1 div.sk-parallel-item {display: flex;flex-direction: column;z-index: 1;position: relative;background-color: white;}#sk-container-id-1 div.sk-parallel-item:first-child::after {align-self: flex-end;width: 50%;}#sk-container-id-1 div.sk-parallel-item:last-child::after {align-self: flex-start;width: 50%;}#sk-container-id-1 div.sk-parallel-item:only-child::after {width: 0;}#sk-container-id-1 div.sk-dashed-wrapped {border: 1px dashed gray;margin: 0 0.4em 0.5em 0.4em;box-sizing: border-box;padding-bottom: 0.4em;background-color: white;}#sk-container-id-1 div.sk-label label {font-family: monospace;font-weight: bold;display: inline-block;line-height: 1.2em;}#sk-container-id-1 div.sk-label-container {text-align: center;}#sk-container-id-1 div.sk-container {/* jupyter's `normalize.less` sets `[hidden] { display: none; }` but bootstrap.min.css set `[hidden] { display: none !important; }` so we also need the `!important` here to be able to override the default hidden behavior on the sphinx rendered scikit-learn.org. See: https://github.com/scikit-learn/scikit-learn/issues/21755 */display: inline-block !important;position: relative;}#sk-container-id-1 div.sk-text-repr-fallback {display: none;}</style><div id=\"sk-container-id-1\" class=\"sk-top-container\"><div class=\"sk-text-repr-fallback\"><pre>SVC(kernel=&#x27;linear&#x27;)</pre><b>In a Jupyter environment, please rerun this cell to show the HTML representation or trust the notebook. <br />On GitHub, the HTML representation is unable to render, please try loading this page with nbviewer.org.</b></div><div class=\"sk-container\" hidden><div class=\"sk-item\"><div class=\"sk-estimator sk-toggleable\"><input class=\"sk-toggleable__control sk-hidden--visually\" id=\"sk-estimator-id-1\" type=\"checkbox\" checked><label for=\"sk-estimator-id-1\" class=\"sk-toggleable__label sk-toggleable__label-arrow\">SVC</label><div class=\"sk-toggleable__content\"><pre>SVC(kernel=&#x27;linear&#x27;)</pre></div></div></div></div></div>"
            ]
          },
          "metadata": {},
          "execution_count": 23
        }
      ]
    },
    {
      "cell_type": "markdown",
      "source": [
        "**Model Evaluation:** Model evaluation is the process of using different evaluation metrics to understand a machine learning model's performance, as well as its strengths and weaknesses.\n",
        "\n",
        "**Accuracy score:** A function imported from sklearn.metrics. Accuracy score in machine learning is an evaluation metric that measures the number of correct predictions made by a model in relation to the total number of predictions made. We calculate it by dividing the number of correct predictions by the total number of predictions."
      ],
      "metadata": {
        "id": "2II83cR9zo7D"
      }
    },
    {
      "cell_type": "code",
      "source": [
        "#Accuracy score between 70 to 80 leads to a good model\n",
        "\n",
        "#Accuracy score on Traning data\n",
        "\n",
        "#predict the loan_status in 0 and 1 form\n",
        "X_train_prediction =  classifier.predict(X_train)\n",
        "\n",
        "#Now compare it with original label i.e Y_train \n",
        "train_accuracy = accuracy_score(X_train_prediction, Y_train)\n",
        "\n",
        "print('#Accuracy score on Traning data', train_accuracy)"
      ],
      "metadata": {
        "colab": {
          "base_uri": "https://localhost:8080/"
        },
        "id": "ZwdFlsSVy2rN",
        "outputId": "b5ab52de-28da-4cda-c114-e0a666c38c98"
      },
      "execution_count": null,
      "outputs": [
        {
          "output_type": "stream",
          "name": "stdout",
          "text": [
            "#Accuracy score on Traning data 0.7986111111111112\n"
          ]
        }
      ]
    },
    {
      "cell_type": "code",
      "source": [
        "#Accuracy score on Test data\n",
        "\n",
        "#predict the loan_status in 0 and 1 form\n",
        "X_test_prediction =  classifier.predict(X_test)\n",
        "\n",
        "#Now compare it with original label i.e Y_test \n",
        "test_accuracy = accuracy_score(X_test_prediction, Y_test)\n",
        "\n",
        "print('#Accuracy score on Test data', test_accuracy)"
      ],
      "metadata": {
        "colab": {
          "base_uri": "https://localhost:8080/"
        },
        "id": "8zG8IR-W2BRQ",
        "outputId": "643f75e4-ad74-4e8f-984b-b72f11e853bd"
      },
      "execution_count": null,
      "outputs": [
        {
          "output_type": "stream",
          "name": "stdout",
          "text": [
            "#Accuracy score on Test data 0.8333333333333334\n"
          ]
        }
      ]
    },
    {
      "cell_type": "markdown",
      "source": [
        "Model is working very well as it is giving 83% accuracy on test data "
      ],
      "metadata": {
        "id": "3hwL1H6A24Aw"
      }
    }
  ]
}