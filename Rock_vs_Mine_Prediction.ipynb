{
  "nbformat": 4,
  "nbformat_minor": 0,
  "metadata": {
    "colab": {
      "provenance": []
    },
    "kernelspec": {
      "name": "python3",
      "display_name": "Python 3"
    },
    "language_info": {
      "name": "python"
    }
  },
  "cells": [
    {
      "cell_type": "markdown",
      "source": [
        "Import Dependencies\n"
      ],
      "metadata": {
        "id": "i3z5O8PRSTFG"
      }
    },
    {
      "cell_type": "code",
      "execution_count": 1,
      "metadata": {
        "id": "Ki37TeMLFdV9"
      },
      "outputs": [],
      "source": [
        "import numpy as np\n",
        "import pandas as pd\n",
        "from sklearn.model_selection import train_test_split\n",
        "from sklearn.linear_model import LogisticRegression\n",
        "from sklearn.metrics import accuracy_score"
      ]
    },
    {
      "cell_type": "markdown",
      "source": [
        "Data Collection and Data Preprocessing"
      ],
      "metadata": {
        "id": "Wlbv5k57SsUe"
      }
    },
    {
      "cell_type": "code",
      "source": [
        "sonar_data=pd.read_csv('/content/sonar data.csv', header=None)"
      ],
      "metadata": {
        "id": "IFr18-rcHYBB"
      },
      "execution_count": 2,
      "outputs": []
    },
    {
      "cell_type": "markdown",
      "source": [
        "Spliting Data and Labels"
      ],
      "metadata": {
        "id": "EI7HBm2rTBgV"
      }
    },
    {
      "cell_type": "code",
      "source": [
        "X=sonar_data.drop(columns=60, axis=1)\n",
        "Y=sonar_data[60]"
      ],
      "metadata": {
        "id": "Cllt5JQaJQPD"
      },
      "execution_count": 4,
      "outputs": []
    },
    {
      "cell_type": "markdown",
      "source": [
        "Split into Traning and Test Data"
      ],
      "metadata": {
        "id": "wDs6HPKxTJac"
      }
    },
    {
      "cell_type": "code",
      "source": [
        "X_train, X_test, Y_train, Y_test=train_test_split(X,Y, test_size=0.1, stratify=Y, random_state=1)"
      ],
      "metadata": {
        "id": "znR-_9dgKOKn"
      },
      "execution_count": 5,
      "outputs": []
    },
    {
      "cell_type": "markdown",
      "source": [
        "Train using Logistic Regression Model"
      ],
      "metadata": {
        "id": "5ZvPgDZCTRld"
      }
    },
    {
      "cell_type": "code",
      "source": [
        "model=LogisticRegression()\n",
        "model.fit(X_train, Y_train)"
      ],
      "metadata": {
        "id": "ydqCGoBgL7nv"
      },
      "execution_count": null,
      "outputs": []
    },
    {
      "cell_type": "markdown",
      "source": [
        "Model Evaluation"
      ],
      "metadata": {
        "id": "hVk5LBNWNX-D"
      }
    },
    {
      "cell_type": "code",
      "source": [
        "#Accuracy on Training Data\n",
        "X_train_prediction=model.predict(X_train)\n",
        "training_data_accuracy = accuracy_score(X_train_prediction, Y_train)\n",
        "print('Accuracy on Training Data: ', training_data_accuracy)"
      ],
      "metadata": {
        "colab": {
          "base_uri": "https://localhost:8080/"
        },
        "id": "zIt0yOYLMc2P",
        "outputId": "af7ad9ea-09a0-42a1-b834-2e4caef44412"
      },
      "execution_count": 10,
      "outputs": [
        {
          "output_type": "stream",
          "name": "stdout",
          "text": [
            "Accuracy on Training Data:  0.8342245989304813\n"
          ]
        }
      ]
    },
    {
      "cell_type": "code",
      "source": [
        "#Accuracy on Test Data\n",
        "\n",
        "X_test_prediction = model.predict(X_test)\n",
        "test_data_accuracy = accuracy_score(X_test_prediction, Y_test)\n",
        "print('Accuracy on Test Data: ', test_data_accuracy)"
      ],
      "metadata": {
        "colab": {
          "base_uri": "https://localhost:8080/"
        },
        "id": "8ku74yGIOXhq",
        "outputId": "e45d736b-5095-4f63-e335-088fa93fb774"
      },
      "execution_count": 11,
      "outputs": [
        {
          "output_type": "stream",
          "name": "stdout",
          "text": [
            "Accuracy on Test Data:  0.7619047619047619\n"
          ]
        }
      ]
    },
    {
      "cell_type": "markdown",
      "source": [
        "Making a Predictive System"
      ],
      "metadata": {
        "id": "G1Y_reolPg-K"
      }
    },
    {
      "cell_type": "code",
      "source": [
        "input_data=(0.0126,0.0519,0.0621,0.0518,0.1072,0.2587,0.2304,0.2067,0.3416,0.4284,0.3015,0.1207,0.3299,0.5707,0.6962,0.9751,1.0000,0.9293,0.6210,0.4586,0.5001,0.5032,0.7082,0.8420,0.8109,0.7690,0.8105,0.6203,0.2356,0.2595,0.6299,0.6762,0.2903,0.4393,0.8529,0.7180,0.4801,0.5856,0.4993,0.2866,0.0601,0.1167,0.2737,0.2812,0.2078,0.0660,0.0491,0.0345,0.0172,0.0287,0.0027,0.0208,0.0048,0.0199,0.0126,0.0022,0.0037,0.0034,0.0114,0.0077)\n",
        "\n",
        "#Changing the input data to numpy array\n",
        "numpy_array=np.asarray(input_data)\n",
        "\n",
        "#Reshape data as we are predicting for one instance\n",
        "reshaped=numpy_array.reshape(1,-1)\n",
        "\n",
        "prediction = model.predict(reshaped)\n",
        "\n",
        "print('Prediction: ', prediction)\n",
        "\n",
        "if(prediction[0]=='R'):\n",
        "  print('The object is Rock')\n",
        "else:\n",
        "  print('The object is Mine')"
      ],
      "metadata": {
        "colab": {
          "base_uri": "https://localhost:8080/"
        },
        "id": "qXey7-yMPOIk",
        "outputId": "6bb54a0f-b4da-482b-b438-eac9c974898b"
      },
      "execution_count": 17,
      "outputs": [
        {
          "output_type": "stream",
          "name": "stdout",
          "text": [
            "Prediction:  ['R']\n",
            "The object is Rock\n"
          ]
        }
      ]
    },
    {
      "cell_type": "code",
      "source": [],
      "metadata": {
        "id": "b1EP09p9RSKi"
      },
      "execution_count": null,
      "outputs": []
    }
  ]
}